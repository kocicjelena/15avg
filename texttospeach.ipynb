{
  "nbformat": 4,
  "nbformat_minor": 0,
  "metadata": {
    "colab": {
      "provenance": [],
      "authorship_tag": "ABX9TyP+TJFRdqDa28xyfDh68DW5",
      "include_colab_link": true
    },
    "kernelspec": {
      "name": "python3",
      "display_name": "Python 3"
    },
    "language_info": {
      "name": "python"
    }
  },
  "cells": [
    {
      "cell_type": "markdown",
      "metadata": {
        "id": "view-in-github",
        "colab_type": "text"
      },
      "source": [
        "<a href=\"https://colab.research.google.com/github/kocicjelena/15avg/blob/master/texttospeach.ipynb\" target=\"_parent\"><img src=\"https://colab.research.google.com/assets/colab-badge.svg\" alt=\"Open In Colab\"/></a>"
      ]
    },
    {
      "cell_type": "code",
      "execution_count": 3,
      "metadata": {
        "colab": {
          "base_uri": "https://localhost:8080/",
          "height": 425
        },
        "id": "wqdEBCGQtSFX",
        "outputId": "d0c49b0a-7851-49fc-817f-06d562d858a6"
      },
      "outputs": [
        {
          "output_type": "stream",
          "name": "stdout",
          "text": [
            "Requirement already satisfied: PyPDF2 in /usr/local/lib/python3.10/dist-packages (3.0.1)\n",
            "Requirement already satisfied: pyttsx3 in /usr/local/lib/python3.10/dist-packages (2.90)\n"
          ]
        },
        {
          "output_type": "error",
          "ename": "TypeError",
          "evalue": "ignored",
          "traceback": [
            "\u001b[0;31m---------------------------------------------------------------------------\u001b[0m",
            "\u001b[0;31mTypeError\u001b[0m                                 Traceback (most recent call last)",
            "\u001b[0;32m<ipython-input-3-f6a7be0aa196>\u001b[0m in \u001b[0;36m<cell line: 61>\u001b[0;34m()\u001b[0m\n\u001b[1;32m     59\u001b[0m \u001b[0;31m#origFileName = 'dataAnalysis.pdf'\u001b[0m\u001b[0;34m\u001b[0m\u001b[0;34m\u001b[0m\u001b[0m\n\u001b[1;32m     60\u001b[0m \u001b[0mnewFileName\u001b[0m \u001b[0;34m=\u001b[0m \u001b[0;34m'example.pdf'\u001b[0m\u001b[0;34m\u001b[0m\u001b[0;34m\u001b[0m\u001b[0m\n\u001b[0;32m---> 61\u001b[0;31m \u001b[0mPDFrecordText\u001b[0m\u001b[0;34m(\u001b[0m\u001b[0;34m\"I will speak this text\"\u001b[0m\u001b[0;34m,\u001b[0m \u001b[0mnewFileName\u001b[0m\u001b[0;34m)\u001b[0m\u001b[0;34m\u001b[0m\u001b[0;34m\u001b[0m\u001b[0m\n\u001b[0m\u001b[1;32m     62\u001b[0m \u001b[0mspeak\u001b[0m \u001b[0;34m=\u001b[0m \u001b[0mpyttsx3\u001b[0m\u001b[0;34m.\u001b[0m\u001b[0minit\u001b[0m\u001b[0;34m(\u001b[0m\u001b[0;34m'dummy'\u001b[0m\u001b[0;34m)\u001b[0m\u001b[0;34m\u001b[0m\u001b[0;34m\u001b[0m\u001b[0m\n\u001b[1;32m     63\u001b[0m \u001b[0mspeak\u001b[0m\u001b[0;34m.\u001b[0m\u001b[0msay\u001b[0m\u001b[0;34m(\u001b[0m\u001b[0;34m\"I will speak this text\"\u001b[0m\u001b[0;34m)\u001b[0m\u001b[0;34m\u001b[0m\u001b[0;34m\u001b[0m\u001b[0m\n",
            "\u001b[0;32m<ipython-input-3-f6a7be0aa196>\u001b[0m in \u001b[0;36mPDFrecordText\u001b[0;34m(text, newFileName)\u001b[0m\n\u001b[1;32m     46\u001b[0m     \u001b[0;31m# creating a pdf writer object for new pdf\u001b[0m\u001b[0;34m\u001b[0m\u001b[0;34m\u001b[0m\u001b[0m\n\u001b[1;32m     47\u001b[0m     \u001b[0mpdfWriter\u001b[0m \u001b[0;34m=\u001b[0m \u001b[0mPyPDF2\u001b[0m\u001b[0;34m.\u001b[0m\u001b[0mPdfWriter\u001b[0m\u001b[0;34m(\u001b[0m\u001b[0;34m)\u001b[0m\u001b[0;34m\u001b[0m\u001b[0;34m\u001b[0m\u001b[0m\n\u001b[0;32m---> 48\u001b[0;31m     \u001b[0mpdfWriter\u001b[0m\u001b[0;34m.\u001b[0m\u001b[0madd_page\u001b[0m\u001b[0;34m(\u001b[0m\u001b[0mtext\u001b[0m\u001b[0;34m)\u001b[0m\u001b[0;34m\u001b[0m\u001b[0;34m\u001b[0m\u001b[0m\n\u001b[0m\u001b[1;32m     49\u001b[0m \u001b[0;34m\u001b[0m\u001b[0m\n\u001b[1;32m     50\u001b[0m                 \u001b[0;31m# new pdf file object\u001b[0m\u001b[0;34m\u001b[0m\u001b[0;34m\u001b[0m\u001b[0m\n",
            "\u001b[0;32m/usr/local/lib/python3.10/dist-packages/PyPDF2/_writer.py\u001b[0m in \u001b[0;36madd_page\u001b[0;34m(self, page, excluded_keys)\u001b[0m\n\u001b[1;32m    319\u001b[0m             \u001b[0man\u001b[0m \u001b[0minstance\u001b[0m \u001b[0mof\u001b[0m \u001b[0;34m:\u001b[0m\u001b[0;32mclass\u001b[0m\u001b[0;34m:\u001b[0m\u001b[0;31m`\u001b[0m\u001b[0mPageObject\u001b[0m\u001b[0;34m<\u001b[0m\u001b[0mPyPDF2\u001b[0m\u001b[0;34m.\u001b[0m\u001b[0m_page\u001b[0m\u001b[0;34m.\u001b[0m\u001b[0mPageObject\u001b[0m\u001b[0;34m>\u001b[0m\u001b[0;31m`\u001b[0m\u001b[0;34m\u001b[0m\u001b[0;34m\u001b[0m\u001b[0m\n\u001b[1;32m    320\u001b[0m         \"\"\"\n\u001b[0;32m--> 321\u001b[0;31m         \u001b[0;32mreturn\u001b[0m \u001b[0mself\u001b[0m\u001b[0;34m.\u001b[0m\u001b[0m_add_page\u001b[0m\u001b[0;34m(\u001b[0m\u001b[0mpage\u001b[0m\u001b[0;34m,\u001b[0m \u001b[0mlist\u001b[0m\u001b[0;34m.\u001b[0m\u001b[0mappend\u001b[0m\u001b[0;34m,\u001b[0m \u001b[0mexcluded_keys\u001b[0m\u001b[0;34m)\u001b[0m\u001b[0;34m\u001b[0m\u001b[0;34m\u001b[0m\u001b[0m\n\u001b[0m\u001b[1;32m    322\u001b[0m \u001b[0;34m\u001b[0m\u001b[0m\n\u001b[1;32m    323\u001b[0m     def addPage(\n",
            "\u001b[0;32m/usr/local/lib/python3.10/dist-packages/PyPDF2/_writer.py\u001b[0m in \u001b[0;36m_add_page\u001b[0;34m(self, page, action, excluded_keys)\u001b[0m\n\u001b[1;32m    256\u001b[0m         \u001b[0mexcluded_keys\u001b[0m\u001b[0;34m:\u001b[0m \u001b[0mIterable\u001b[0m\u001b[0;34m[\u001b[0m\u001b[0mstr\u001b[0m\u001b[0;34m]\u001b[0m \u001b[0;34m=\u001b[0m \u001b[0;34m(\u001b[0m\u001b[0;34m)\u001b[0m\u001b[0;34m,\u001b[0m\u001b[0;34m\u001b[0m\u001b[0;34m\u001b[0m\u001b[0m\n\u001b[1;32m    257\u001b[0m     ) -> PageObject:\n\u001b[0;32m--> 258\u001b[0;31m         \u001b[0;32massert\u001b[0m \u001b[0mcast\u001b[0m\u001b[0;34m(\u001b[0m\u001b[0mstr\u001b[0m\u001b[0;34m,\u001b[0m \u001b[0mpage\u001b[0m\u001b[0;34m[\u001b[0m\u001b[0mPA\u001b[0m\u001b[0;34m.\u001b[0m\u001b[0mTYPE\u001b[0m\u001b[0;34m]\u001b[0m\u001b[0;34m)\u001b[0m \u001b[0;34m==\u001b[0m \u001b[0mCO\u001b[0m\u001b[0;34m.\u001b[0m\u001b[0mPAGE\u001b[0m\u001b[0;34m\u001b[0m\u001b[0;34m\u001b[0m\u001b[0m\n\u001b[0m\u001b[1;32m    259\u001b[0m         \u001b[0mpage_org\u001b[0m \u001b[0;34m=\u001b[0m \u001b[0mpage\u001b[0m\u001b[0;34m\u001b[0m\u001b[0;34m\u001b[0m\u001b[0m\n\u001b[1;32m    260\u001b[0m         \u001b[0mexcluded_keys\u001b[0m \u001b[0;34m=\u001b[0m \u001b[0mlist\u001b[0m\u001b[0;34m(\u001b[0m\u001b[0mexcluded_keys\u001b[0m\u001b[0;34m)\u001b[0m\u001b[0;34m\u001b[0m\u001b[0;34m\u001b[0m\u001b[0m\n",
            "\u001b[0;31mTypeError\u001b[0m: string indices must be integers"
          ]
        }
      ],
      "source": [
        "!pip install PyPDF2\n",
        "!pip install pyttsx3\n",
        "import PyPDF2,pyttsx3\n",
        "#path=open('dataAnalysis.pdf','rb')\n",
        "#pdfReader = PyPDF2.PdfReader(path)\n",
        "def PDFrecord(origFileName, newFileName):\n",
        "\n",
        "    # creating a pdf File object of original pdf\n",
        "    pdfFileObj = open(origFileName, 'rb')\n",
        "\n",
        "    # creating a pdf Reader object\n",
        "    pdfReader = PyPDF2.PdfReader(pdfFileObj)\n",
        "\n",
        "    # creating a pdf writer object for new pdf\n",
        "    pdfWriter = PyPDF2.PdfWriter()\n",
        "\n",
        "    # rotating each page\n",
        "    for page in range(len(pdfReader.pages)):\n",
        "\n",
        "        # creating rotated page object\n",
        "        pageObj = pdfReader.pages[page]\n",
        "        pageObj.extract_text()\n",
        "\n",
        "        # adding rotated page object to pdf writer\n",
        "        pdfWriter.add_page(pageObj)\n",
        "\n",
        "        # new pdf file object\n",
        "        newFile = open(newFileName, 'wb')\n",
        "\n",
        "        # writing rotated pages to new file\n",
        "        pdfWriter.write(newFile)\n",
        "        #speak.save_to_file(newFileName, 'newFileName.mp3')\n",
        "    # closing the original pdf file object\n",
        "    pdfFileObj.close()\n",
        "\n",
        "    # closing the new pdf file object\n",
        "    newFile.close()\n",
        "def PDFrecordText(text, newFileName):\n",
        "\n",
        "    # creating a pdf File object of original pdf\n",
        "    #pdfFileObj = open(text, 'rb')\n",
        "\n",
        "    # creating a pdf Reader object\n",
        "    #pdfReader = PyPDF2.PdfReader(pdfFileObj)\n",
        "\n",
        "    # creating a pdf writer object for new pdf\n",
        "    pdfWriter = PyPDF2.PdfWriter()\n",
        "    pdfWriter.add_page(text)\n",
        "\n",
        "\t\t# new pdf file object\n",
        "    newFile = open(newFileName, 'wb')\n",
        "\n",
        "\t\t# writing rotated pages to new file\n",
        "    pdfWriter.write(newFile)\n",
        "    #pdfFileObj.close()\n",
        "\n",
        "    # closing the new pdf file object\n",
        "    newFile.close()\n",
        "#origFileName = 'dataAnalysis.pdf'\n",
        "newFileName = 'example.pdf'\n",
        "PDFrecordText(\"I will speak this text\", newFileName)\n",
        "speak = pyttsx3.init('dummy')\n",
        "speak.say(\"I will speak this text\")\n",
        "\"\"\" for pages in range(pdfReader.numPages):\n",
        "    text = pdfReader.getPage(pages).extractText()\n",
        "    speak.say(text)\n",
        "    speak.runAndWait() \"\"\"\n",
        "speak.runAndWait()\n",
        "speak.save_to_file(newFileName, 'new.mp3')\n",
        "\n",
        "speak.stop()"
      ]
    }
  ]
}